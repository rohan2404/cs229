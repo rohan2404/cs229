{
 "cells": [
  {
   "cell_type": "code",
   "execution_count": 191,
   "id": "3540a225",
   "metadata": {},
   "outputs": [],
   "source": [
    "import pandas as pd\n",
    "import numpy as np\n",
    "import matplotlib.pyplot as plt\n",
    "#import regression as rg\n",
    "import seaborn as sns"
   ]
  },
  {
   "cell_type": "code",
   "execution_count": 192,
   "id": "a31ec14b",
   "metadata": {},
   "outputs": [],
   "source": [
    "class PoissonRegressionGPT:\n",
    "    def __init__(\n",
    "        self,\n",
    "        alpha: float = 1e-2,          # initial learning rate\n",
    "        decay: float = 1e-4,          # learning-rate decay per update\n",
    "        batch_size: int = 32,         # mini-batch size\n",
    "        max_epochs: int = 100,        # passes through the data\n",
    "        tol: float = 1e-6,            # early-stopping threshold\n",
    "        clip_norm: float = 5.0,       # gradient‐norm clipping\n",
    "        standardize: bool = True      # feature‐scaling toggle\n",
    "    ):\n",
    "        self.alpha = alpha\n",
    "        self.decay = decay\n",
    "        self.batch_size = batch_size\n",
    "        self.max_epochs = max_epochs\n",
    "        self.tol = tol\n",
    "        self.clip_norm = clip_norm\n",
    "        self.standardize = standardize\n",
    "        self.theta = None\n",
    "        self.mean_ = None\n",
    "        self.std_ = None\n",
    "\n",
    "    def _add_intercept(self, X):\n",
    "        return np.hstack([np.ones((X.shape[0], 1)), X])\n",
    "\n",
    "    def _scale(self, X):\n",
    "        if self.standardize:\n",
    "            self.mean_ = X.mean(axis=0)\n",
    "            self.std_ = X.std(axis=0, ddof=1)\n",
    "            # avoid division by zero\n",
    "            self.std_[self.std_ == 0] = 1.0\n",
    "            return (X - self.mean_) / self.std_\n",
    "        else:\n",
    "            return X\n",
    "\n",
    "    def fit(self, X, y):\n",
    "        # 1) Optionally standardize features (exclude intercept)\n",
    "        X = self._scale(X)\n",
    "\n",
    "        # 2) Add intercept column\n",
    "        Xb = self._add_intercept(X)\n",
    "        n, p = Xb.shape\n",
    "\n",
    "        # 3) Initialize parameters\n",
    "        theta = np.zeros(p, dtype=float)\n",
    "\n",
    "        # 4) Run mini-batch SGD with decay & clipping\n",
    "        update_count = 0\n",
    "        for epoch in range(self.max_epochs):\n",
    "            # shuffle indices each epoch\n",
    "            perm = np.random.permutation(n)\n",
    "            for start in range(0, n, self.batch_size):\n",
    "                idx = perm[start:start + self.batch_size]\n",
    "                X_batch = Xb[idx]\n",
    "                y_batch = y[idx]\n",
    "\n",
    "                # predictions and gradient\n",
    "                eta = X_batch.dot(theta)                 # shape (batch_size,)\n",
    "                lam = np.exp(eta)                       # λ = exp(η)\n",
    "                # gradient of log-likelihood over the batch:\n",
    "                # ∇ = Xᵀ (y − λ)\n",
    "                grad = X_batch.T.dot(y_batch - lam) / len(idx)\n",
    "\n",
    "                # clip gradient norm\n",
    "                norm = np.linalg.norm(grad)\n",
    "                if norm > self.clip_norm:\n",
    "                    grad *= (self.clip_norm / norm)\n",
    "\n",
    "                # learning‐rate with decay\n",
    "                lr = self.alpha / (1 + self.decay * update_count)\n",
    "\n",
    "                update = lr * grad\n",
    "                theta_new = theta + update\n",
    "\n",
    "                # early stopping\n",
    "                if np.linalg.norm(update) < self.tol:\n",
    "                    self.theta = theta_new\n",
    "                    return self\n",
    "\n",
    "                theta = theta_new\n",
    "                update_count += 1\n",
    "\n",
    "        self.theta = theta\n",
    "        return self\n",
    "\n",
    "    def predict_rate(self, X):\n",
    "        # apply same scaling\n",
    "        if self.standardize:\n",
    "            X = (X - self.mean_) / self.std_\n",
    "        Xb = self._add_intercept(X)\n",
    "        return np.exp(Xb.dot(self.theta))"
   ]
  },
  {
   "cell_type": "code",
   "execution_count": 193,
   "id": "12c6f83f",
   "metadata": {},
   "outputs": [],
   "source": [
    "model = PoissonRegressionGPT()"
   ]
  },
  {
   "cell_type": "code",
   "execution_count": 194,
   "id": "59f1c9b6",
   "metadata": {},
   "outputs": [
    {
     "data": {
      "text/html": [
       "<div>\n",
       "<style scoped>\n",
       "    .dataframe tbody tr th:only-of-type {\n",
       "        vertical-align: middle;\n",
       "    }\n",
       "\n",
       "    .dataframe tbody tr th {\n",
       "        vertical-align: top;\n",
       "    }\n",
       "\n",
       "    .dataframe thead th {\n",
       "        text-align: right;\n",
       "    }\n",
       "</style>\n",
       "<table border=\"1\" class=\"dataframe\">\n",
       "  <thead>\n",
       "    <tr style=\"text-align: right;\">\n",
       "      <th></th>\n",
       "      <th>x_1</th>\n",
       "      <th>x_2</th>\n",
       "      <th>x_3</th>\n",
       "      <th>x_4</th>\n",
       "      <th>y</th>\n",
       "    </tr>\n",
       "  </thead>\n",
       "  <tbody>\n",
       "    <tr>\n",
       "      <th>0</th>\n",
       "      <td>1.0</td>\n",
       "      <td>0.0</td>\n",
       "      <td>0.992047</td>\n",
       "      <td>0.325741</td>\n",
       "      <td>2463097</td>\n",
       "    </tr>\n",
       "    <tr>\n",
       "      <th>1</th>\n",
       "      <td>0.0</td>\n",
       "      <td>1.0</td>\n",
       "      <td>0.470463</td>\n",
       "      <td>0.371866</td>\n",
       "      <td>645481</td>\n",
       "    </tr>\n",
       "    <tr>\n",
       "      <th>2</th>\n",
       "      <td>0.0</td>\n",
       "      <td>1.0</td>\n",
       "      <td>0.496533</td>\n",
       "      <td>0.289853</td>\n",
       "      <td>474123</td>\n",
       "    </tr>\n",
       "    <tr>\n",
       "      <th>3</th>\n",
       "      <td>0.0</td>\n",
       "      <td>1.0</td>\n",
       "      <td>0.196377</td>\n",
       "      <td>0.694672</td>\n",
       "      <td>1542136</td>\n",
       "    </tr>\n",
       "    <tr>\n",
       "      <th>4</th>\n",
       "      <td>0.0</td>\n",
       "      <td>1.0</td>\n",
       "      <td>0.224992</td>\n",
       "      <td>0.880809</td>\n",
       "      <td>3705439</td>\n",
       "    </tr>\n",
       "  </tbody>\n",
       "</table>\n",
       "</div>"
      ],
      "text/plain": [
       "   x_1  x_2       x_3       x_4        y\n",
       "0  1.0  0.0  0.992047  0.325741  2463097\n",
       "1  0.0  1.0  0.470463  0.371866   645481\n",
       "2  0.0  1.0  0.496533  0.289853   474123\n",
       "3  0.0  1.0  0.196377  0.694672  1542136\n",
       "4  0.0  1.0  0.224992  0.880809  3705439"
      ]
     },
     "execution_count": 194,
     "metadata": {},
     "output_type": "execute_result"
    }
   ],
   "source": [
    "ds4_train, ds4_valid = pd.read_csv(\"data/ds4_train.csv\"), pd.read_csv(\"data/ds4_valid.csv\")\n",
    "ds4_train.head()"
   ]
  },
  {
   "cell_type": "code",
   "execution_count": 195,
   "id": "0ab41741",
   "metadata": {},
   "outputs": [
    {
     "data": {
      "image/png": "[encoded data removed]",
      "text/plain": [
       "<Figure size 640x480 with 1 Axes>"
      ]
     },
     "metadata": {},
     "output_type": "display_data"
    }
   ],
   "source": [
    "sns.histplot(ds4_train, x='y', kde=True)\n",
    "plt.title('y Distribution')\n",
    "plt.show()"
   ]
  },
  {
   "cell_type": "markdown",
   "id": "e7d6456d",
   "metadata": {},
   "source": [
    "Looks poisson like! If it were a - hmmm never mind - we'll skip the data visualisation part and defer it for later for closer inspection"
   ]
  },
  {
   "cell_type": "code",
   "execution_count": 196,
   "id": "0b84137f",
   "metadata": {},
   "outputs": [],
   "source": [
    "x1,x2,x3,x4,y = np.array([ds4_train[col] for col in ds4_train.columns])\n",
    "features_matrix = np.column_stack([x1,x2,x3,x4])"
   ]
  },
  {
   "cell_type": "code",
   "execution_count": 197,
   "id": "07adc42d",
   "metadata": {},
   "outputs": [
    {
     "data": {
      "text/plain": [
       "<__main__.PoissonRegressionGPT at 0x11e93b770>"
      ]
     },
     "execution_count": 197,
     "metadata": {},
     "output_type": "execute_result"
    }
   ],
   "source": [
    "model.fit(features_matrix, y)"
   ]
  },
  {
   "cell_type": "code",
   "execution_count": 198,
   "id": "754adde8",
   "metadata": {},
   "outputs": [],
   "source": [
    "theta = model.theta"
   ]
  },
  {
   "cell_type": "code",
   "execution_count": 199,
   "id": "cc238925",
   "metadata": {},
   "outputs": [],
   "source": [
    "predictions = model.predict_rate(features_matrix)"
   ]
  },
  {
   "cell_type": "code",
   "execution_count": 200,
   "id": "da7463ee",
   "metadata": {},
   "outputs": [
    {
     "data": {
      "image/png": "[encoded data removed]",
      "text/plain": [
       "<Figure size 640x480 with 1 Axes>"
      ]
     },
     "metadata": {},
     "output_type": "display_data"
    }
   ],
   "source": [
    "plt.plot(y, predictions,'.')\n",
    "x=np.linspace(0,6e7, 100)\n",
    "plt.plot(x,x)\n",
    "plt.show()"
   ]
  },
  {
   "cell_type": "code",
   "execution_count": 294,
   "id": "5c910213",
   "metadata": {},
   "outputs": [],
   "source": [
    "class PoissonRegression:\n",
    "    def standardise(self, X: np.ndarray) -> np.ndarray:\n",
    "        self.mean = X.mean(axis=0)\n",
    "        self.std = X.std(axis=0, ddof=1)\n",
    "        return (X - self.mean) / self.std\n",
    "    def add_intercept(self, X: np.ndarray) -> np.ndarray:\n",
    "        return np.column_stack([np.ones(len(X)), X])\n",
    "    def h(self, X: np.ndarray, theta: np.ndarray) -> np.ndarray:\n",
    "        Xb = self.add_intercept(X)\n",
    "        return np.exp(np.dot(Xb, theta))\n",
    "    def update_theta(self, X: np.ndarray, y: np.ndarray, theta: np.ndarray, alpha: float) -> np.ndarray:\n",
    "        Xb = self.add_intercept(X)\n",
    "        return theta + alpha * np.dot(Xb.T, y - self.h(X, theta))/len(X)\n",
    "    def gradient_ascent(self, X: np.ndarray, y: np.ndarray, theta_0: np.ndarray, alpha: float, tol: float) -> np.ndarray:\n",
    "        theta = theta_0\n",
    "        X_scaled = self.standardise(X)\n",
    "        for i in range(100000):\n",
    "            theta_new = self.update_theta(X_scaled,y,theta,alpha)\n",
    "            if np.linalg.norm(theta_new-theta,1) < tol:\n",
    "                break\n",
    "            theta = theta_new\n",
    "        self.theta = theta\n",
    "        return theta\n",
    "model2 = PoissonRegression()"
   ]
  },
  {
   "cell_type": "code",
   "execution_count": 301,
   "id": "4850d412",
   "metadata": {},
   "outputs": [
    {
     "data": {
      "text/plain": [
       "array([14.09009289,  0.1143774 , -0.1143774 ,  0.59773977,  1.3500382 ])"
      ]
     },
     "execution_count": 301,
     "metadata": {},
     "output_type": "execute_result"
    }
   ],
   "source": [
    "model2.gradient_ascent(features_matrix, y, [0,0,0,0,0], alpha=1e-7, tol=0.01)"
   ]
  },
  {
   "cell_type": "code",
   "execution_count": 302,
   "id": "9e3d0c04",
   "metadata": {},
   "outputs": [],
   "source": [
    "predictions = model2.h(model2.standardise(features_matrix), model2.theta)"
   ]
  },
  {
   "cell_type": "code",
   "execution_count": 303,
   "id": "bc23cb41",
   "metadata": {},
   "outputs": [
    {
     "data": {
      "image/png": "[encoded data removed]",
      "text/plain": [
       "<Figure size 640x480 with 1 Axes>"
      ]
     },
     "metadata": {},
     "output_type": "display_data"
    }
   ],
   "source": [
    "plt.plot(y, predictions,'.')\n",
    "x=np.linspace(0,6e7, 100)\n",
    "plt.plot(x,x)\n",
    "plt.show()"
   ]
  },
  {
   "cell_type": "markdown",
   "id": "caff8849",
   "metadata": {},
   "source": [
    "it's very clear that standardising is the best way for helping w convergence"
   ]
  },
  {
   "cell_type": "markdown",
   "id": "5279b424",
   "metadata": {},
   "source": [
    "Usually it is not necessary that since the fit to the training set is good that the fit to the test set will also be good - but we've applied a GLM (i.e. minimal assumptions/constraints) and we're not necessarily overfitting anways. We're also lucky since the question was designed around poisson regression so we can already assume that the assumptions we worked with will work just as well with the valid set."
   ]
  }
 ],
 "metadata": {
  "kernelspec": {
   "display_name": "Python 3",
   "language": "python",
   "name": "python3"
  },
  "language_info": {
   "codemirror_mode": {
    "name": "ipython",
    "version": 3
   },
   "file_extension": ".py",
   "mimetype": "text/x-python",
   "name": "python",
   "nbconvert_exporter": "python",
   "pygments_lexer": "ipython3",
   "version": "3.12.5"
  }
 },
 "nbformat": 4,
 "nbformat_minor": 5
}
