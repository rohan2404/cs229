{
 "cells": [
  {
   "cell_type": "code",
   "execution_count": 10,
   "id": "b05ee8c5",
   "metadata": {},
   "outputs": [],
   "source": [
    "import numpy as np\n",
    "import pandas as pd\n",
    "import matplotlib.pyplot as plt"
   ]
  },
  {
   "cell_type": "code",
   "execution_count": 11,
   "id": "d9460504",
   "metadata": {},
   "outputs": [
    {
     "data": {
      "text/html": [
       "<div>\n",
       "<style scoped>\n",
       "    .dataframe tbody tr th:only-of-type {\n",
       "        vertical-align: middle;\n",
       "    }\n",
       "\n",
       "    .dataframe tbody tr th {\n",
       "        vertical-align: top;\n",
       "    }\n",
       "\n",
       "    .dataframe thead th {\n",
       "        text-align: right;\n",
       "    }\n",
       "</style>\n",
       "<table border=\"1\" class=\"dataframe\">\n",
       "  <thead>\n",
       "    <tr style=\"text-align: right;\">\n",
       "      <th></th>\n",
       "      <th>x_1</th>\n",
       "      <th>x_2</th>\n",
       "      <th>z</th>\n",
       "    </tr>\n",
       "  </thead>\n",
       "  <tbody>\n",
       "    <tr>\n",
       "      <th>0</th>\n",
       "      <td>-0.664166</td>\n",
       "      <td>1.051539</td>\n",
       "      <td>-1</td>\n",
       "    </tr>\n",
       "    <tr>\n",
       "      <th>1</th>\n",
       "      <td>0.321250</td>\n",
       "      <td>2.966127</td>\n",
       "      <td>3</td>\n",
       "    </tr>\n",
       "    <tr>\n",
       "      <th>2</th>\n",
       "      <td>-0.078748</td>\n",
       "      <td>0.955693</td>\n",
       "      <td>-1</td>\n",
       "    </tr>\n",
       "    <tr>\n",
       "      <th>3</th>\n",
       "      <td>-0.036538</td>\n",
       "      <td>1.030159</td>\n",
       "      <td>-1</td>\n",
       "    </tr>\n",
       "    <tr>\n",
       "      <th>4</th>\n",
       "      <td>-1.553956</td>\n",
       "      <td>2.776952</td>\n",
       "      <td>-1</td>\n",
       "    </tr>\n",
       "  </tbody>\n",
       "</table>\n",
       "</div>"
      ],
      "text/plain": [
       "        x_1       x_2  z\n",
       "0 -0.664166  1.051539 -1\n",
       "1  0.321250  2.966127  3\n",
       "2 -0.078748  0.955693 -1\n",
       "3 -0.036538  1.030159 -1\n",
       "4 -1.553956  2.776952 -1"
      ]
     },
     "metadata": {},
     "output_type": "display_data"
    },
    {
     "data": {
      "text/plain": [
       "z\n",
       "-1    980\n",
       " 3      5\n",
       " 0      5\n",
       " 2      5\n",
       " 1      5\n",
       "Name: count, dtype: int64"
      ]
     },
     "metadata": {},
     "output_type": "display_data"
    }
   ],
   "source": [
    "traindf: pd.DataFrame = pd.read_csv(\"data/ds3_train.csv\")\n",
    "display(traindf.head())\n",
    "display(traindf[\"z\"].value_counts())"
   ]
  },
  {
   "cell_type": "code",
   "execution_count": 12,
   "id": "235dbdf5",
   "metadata": {},
   "outputs": [
    {
     "name": "stdout",
     "output_type": "stream",
     "text": [
      "unsupervised set: \n",
      "        x_1       x_2\n",
      "0 -0.664166  1.051539\n",
      "2 -0.078748  0.955693\n",
      "3 -0.036538  1.030159\n",
      "4 -1.553956  2.776952\n",
      "5 -1.546586  1.687299\n",
      "\n",
      "supervised set: \n",
      "          x_1       x_2  z\n",
      "1    0.321250  2.966127  3\n",
      "31   0.041560 -0.013007  0\n",
      "91  -0.118523  0.929570  2\n",
      "100  1.842232 -0.021369  3\n",
      "112  0.449580  0.601387  1\n",
      "\n"
     ]
    }
   ],
   "source": [
    "unsupervised_set = traindf[traindf[\"z\"] == -1][[\"x_1\", \"x_2\"]]\n",
    "supervised_set = traindf[traindf[\"z\"] != -1]\n",
    "print(f\"unsupervised set: \\n{unsupervised_set.head()}\\n\")\n",
    "print(f\"supervised set: \\n{supervised_set.head()}\\n\")\n",
    "unsupervised_features = unsupervised_set.to_numpy()\n",
    "supervised_features = supervised_set[[\"x_1\", \"x_2\"]].to_numpy()\n",
    "supervised_labels = np.array(supervised_set[[\"z\"]])\n",
    "supervised_labels = supervised_labels.reshape((20,))"
   ]
  },
  {
   "cell_type": "code",
   "execution_count": 13,
   "id": "9964088f",
   "metadata": {},
   "outputs": [
    {
     "data": {
      "image/png": "[encoded data removed]",
      "text/plain": [
       "<Figure size 640x480 with 1 Axes>"
      ]
     },
     "metadata": {},
     "output_type": "display_data"
    }
   ],
   "source": [
    "#plot the data\n",
    "plt.scatter(unsupervised_features[:,0], unsupervised_features[:,1], s = 1, c = \"black\")\n",
    "plt.scatter(supervised_features[supervised_labels == 0][:,0], supervised_features[supervised_labels == 0][:,1], s = 5, c = \"red\", label = \"0\")\n",
    "plt.scatter(supervised_features[supervised_labels == 1][:,0], supervised_features[supervised_labels == 1][:,1], s = 5, c = \"blue\", label = \"1\")\n",
    "plt.scatter(supervised_features[supervised_labels == 2][:,0], supervised_features[supervised_labels == 2][:,1], s = 5, c = \"green\", label = \"2\")\n",
    "plt.scatter(supervised_features[supervised_labels == 3][:,0], supervised_features[supervised_labels == 3][:,1], s = 5, c = \"purple\", label = \"3\")\n",
    "plt.legend()\n",
    "plt.show()"
   ]
  },
  {
   "cell_type": "markdown",
   "id": "7d7c7eff",
   "metadata": {},
   "source": [
    "it's clear that the red blue and green are small gaussians while the purple is an overarching large and spread out gaussian which contains red, blue and green (assuming they are of course gaussians)"
   ]
  },
  {
   "cell_type": "code",
   "execution_count": null,
   "id": "86aedfd2",
   "metadata": {},
   "outputs": [
    {
     "name": "stdout",
     "output_type": "stream",
     "text": [
      "[[-0.66416609  1.05153883]\n",
      " [-0.07874786  0.95569336]\n",
      " [-0.0365385   1.03015864]\n",
      " [-1.55395626  2.77695247]\n",
      " [-1.54658624  1.68729903]] (980, 2) \n",
      "\n",
      "[[ 0.32124973  2.96612704]\n",
      " [ 0.04155965 -0.01300652]\n",
      " [-0.11852312  0.92957016]\n",
      " [ 1.84223217 -0.02136909]\n",
      " [ 0.44958037  0.60138732]] (20, 2) \n",
      "\n",
      "[3 0 2 3 1 2 1 0 2 3 0 0 0 2 1 1 1 3 2 3] (20,) \n",
      "\n",
      "[[-0.66416609  1.05153883]\n",
      " [-0.07874786  0.95569336]\n",
      " [-0.0365385   1.03015864]\n",
      " [-1.55395626  2.77695247]\n",
      " [-1.54658624  1.68729903]] (1000, 2)\n"
     ]
    }
   ],
   "source": [
    "combined_features = np.vstack((unsupervised_features, supervised_features))"
   ]
  },
  {
   "cell_type": "code",
   "execution_count": 15,
   "id": "3678b053",
   "metadata": {},
   "outputs": [
    {
     "data": {
      "text/plain": [
       "([array([0.03424349, 0.04236948]),\n",
       "  array([0.33310819, 0.6479712 ]),\n",
       "  array([-0.00341765,  1.13288395]),\n",
       "  array([-1.05382445,  1.41866378])],\n",
       " [array([[0.01710981, 0.00295167],\n",
       "         [0.00295167, 0.03873185]]),\n",
       "  array([[ 0.02982017, -0.02492982],\n",
       "         [-0.02492982,  0.07402149]]),\n",
       "  array([[ 0.05602336, -0.01806979],\n",
       "         [-0.01806979,  0.08468023]]),\n",
       "  array([[ 1.086147  , -0.05827091],\n",
       "         [-0.05827091,  1.04074357]])],\n",
       " array([0.23492239, 0.19772225, 0.21866268, 0.34869267]))"
      ]
     },
     "execution_count": 15,
     "metadata": {},
     "output_type": "execute_result"
    }
   ],
   "source": [
    "import GMM_semisupervised as gm\n",
    "model = gm.GMM_SS()\n",
    "model.fit(unsupervised_features, supervised_features, supervised_labels, 4, alpha=10, iters=10)"
   ]
  },
  {
   "cell_type": "code",
   "execution_count": 16,
   "id": "8b96411f",
   "metadata": {},
   "outputs": [],
   "source": [
    "predictions = []\n",
    "for feature in combined_features:\n",
    "    predictions.append(int(model.predict(feature)))\n",
    "predictions = np.array(predictions)"
   ]
  },
  {
   "cell_type": "code",
   "execution_count": 18,
   "id": "b933d56a",
   "metadata": {},
   "outputs": [
    {
     "data": {
      "image/png": "[encoded data removed]",
      "text/plain": [
       "<Figure size 640x480 with 1 Axes>"
      ]
     },
     "metadata": {},
     "output_type": "display_data"
    }
   ],
   "source": [
    "\n",
    "plt.scatter(combined_features[predictions == 0][:,0], combined_features[predictions == 0][:,1], s = 0.2, c=\"red\")\n",
    "plt.scatter(combined_features[predictions == 1][:,0], combined_features[predictions == 1][:,1], s = 0.2, c=\"blue\")\n",
    "plt.scatter(combined_features[predictions == 2][:,0], combined_features[predictions == 2][:,1], s = 0.2, c=\"green\")\n",
    "plt.scatter(combined_features[predictions == 3][:,0], combined_features[predictions == 3][:,1], s = 0.2, c=\"purple\")\n",
    "\n",
    "#plt.scatter(unsupervised_features[:,0], unsupervised_features[:,1], s = 1, c = \"black\")\n",
    "plt.scatter(supervised_features[supervised_labels == 0][:,0], supervised_features[supervised_labels == 0][:,1], s = 10, c = \"red\", label = \"0\")\n",
    "plt.scatter(supervised_features[supervised_labels == 1][:,0], supervised_features[supervised_labels == 1][:,1], s = 10, c = \"blue\", label = \"1\")\n",
    "plt.scatter(supervised_features[supervised_labels == 2][:,0], supervised_features[supervised_labels == 2][:,1], s = 10, c = \"green\", label = \"2\")\n",
    "plt.scatter(supervised_features[supervised_labels == 3][:,0], supervised_features[supervised_labels == 3][:,1], s = 10, c = \"purple\", label = \"3\")\n",
    "plt.show()"
   ]
  },
  {
   "cell_type": "markdown",
   "id": "0d41816a",
   "metadata": {},
   "source": [
    "looks amazing - changing alpha to a higher number made it exactly how i would segment it if i were to do it by hand.\n",
    "\n",
    "no need to look at validation set, since i am a human and can easily segment 2d data"
   ]
  },
  {
   "cell_type": "markdown",
   "id": "71b2334c",
   "metadata": {},
   "source": []
  }
 ],
 "metadata": {
  "kernelspec": {
   "display_name": "sharedenv",
   "language": "python",
   "name": "python3"
  },
  "language_info": {
   "codemirror_mode": {
    "name": "ipython",
    "version": 3
   },
   "file_extension": ".py",
   "mimetype": "text/x-python",
   "name": "python",
   "nbconvert_exporter": "python",
   "pygments_lexer": "ipython3",
   "version": "3.13.5"
  }
 },
 "nbformat": 4,
 "nbformat_minor": 5
}
